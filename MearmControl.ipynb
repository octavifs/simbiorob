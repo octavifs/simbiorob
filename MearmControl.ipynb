{
 "cells": [
  {
   "cell_type": "code",
   "execution_count": 1,
   "metadata": {
    "collapsed": true
   },
   "outputs": [],
   "source": [
    "# Servo Control\n",
    "import time\n",
    "import wiringpi\n",
    "\n",
    "class Servo(object):\n",
    "    def __init__(self, pin):\n",
    "        pass\n",
    "    \n",
    "    def hardware_init(self):\n",
    "        # use 'GPIO naming'\n",
    "        wiringpi.wiringPiSetupGpio()        \n",
    "        # set #18 to be a PWM output\n",
    "        wiringpi.pinMode(18, wiringpi.GPIO.PWM_OUTPUT)\n",
    "\n",
    "        # set the PWM mode to milliseconds stype\n",
    "        wiringpi.pwmSetMode(wiringpi.GPIO.PWM_MODE_MS)\n",
    "\n",
    "        # divide down clock\n",
    "        wiringpi.pwmSetClock(192)\n",
    "        wiringpi.pwmSetRange(2000)\n",
    "\n",
    "    def test(self):\n",
    "        delay_period = 0.01\n",
    "\n",
    "        while True:\n",
    "            for pulse in range(50, 250, 1):\n",
    "                wiringpi.pwmWrite(18, pulse)\n",
    "                time.sleep(delay_period)\n",
    "            for pulse in range(250, 50, -1):\n",
    "                wiringpi.pwmWrite(18, pulse)\n",
    "                time.sleep(delay_period)"
   ]
  },
  {
   "cell_type": "code",
   "execution_count": null,
   "metadata": {
    "collapsed": true
   },
   "outputs": [],
   "source": []
  },
  {
   "cell_type": "code",
   "execution_count": 14,
   "metadata": {},
   "outputs": [
    {
     "name": "stdout",
     "output_type": "stream",
     "text": [
      "Grip open\n",
      "Grip close\n",
      "Grip open\n",
      "Grip close\n",
      "Grip open\n",
      "Moving to: (-80, 100, 140)\n",
      "Moving base to: 0.0\n",
      "Moving shoulder to: 0.0\n",
      "Moving elbow to: 0.0\n",
      "Grip close\n",
      "Moving to: (70, 200, 10)\n",
      "Moving base to: 0.0\n",
      "Moving shoulder to: 0.0\n",
      "Moving elbow to: 0.0\n",
      "Grip open\n",
      "Moving to: (0, 100, 50)\n",
      "Moving base to: 0.0\n",
      "Moving shoulder to: 0.0\n",
      "Moving elbow to: 0.0\n"
     ]
    }
   ],
   "source": [
    "class MeArm(object):\n",
    "    def __init__(self):\n",
    "        self.L1 = 0.0 #Shoulder to elbow length\n",
    "        self.L2 = 0.0 #Elbow to wrist length\n",
    "        self.L3 = 0.0 #Wrist to hand length\n",
    "        self.servos = {\"base\":Servo(1),\n",
    "                      \"shoulder\":Servo(2),\n",
    "                      \"elbow\":Servo(3),\n",
    "                      \"grip\":Servo(4)}\n",
    "        \n",
    "        self.IK = IK()\n",
    "\n",
    "    def base(self, angle):\n",
    "        print \"Moving base to:\", angle\n",
    "        self.servos[\"base\"]\n",
    "    \n",
    "    def shoulder(self, angle):\n",
    "        print \"Moving shoulder to:\", angle        \n",
    "        self.servos[\"shoulder\"]\n",
    "    \n",
    "    def elbow(self, angle):\n",
    "        print \"Moving elbow to:\", angle\n",
    "        self.servos[\"elbow\"]\n",
    "    \n",
    "    def gripper(self, angle):\n",
    "        print \"Moving gripper to:\", angle\n",
    "        self.servos[\"grip\"]    \n",
    "    \n",
    "    def openGripper(self):\n",
    "        print \"Grip open\"\n",
    "    \n",
    "    def closeGripper(self):\n",
    "        print \"Grip close\"\n",
    "    \n",
    "    def clap(self):\n",
    "        self.openGripper(); self.closeGripper()\n",
    "        self.openGripper(); self.closeGripper()\n",
    "        self.openGripper()        \n",
    "    \n",
    "    def gotoPoint(self, x, y, z):\n",
    "        print \"Moving to:\",(x,y,z)\n",
    "        if self.IK.isReachable(x,y,z):\n",
    "            a,b,g = self.IK.positionToJoints(x,y,z) \n",
    "            self.base(a)\n",
    "            self.shoulder(b)\n",
    "            self.elbow(g)\n",
    "    \n",
    "    \n",
    "\n",
    "arm = MeArm()\n",
    "arm.clap()\n",
    "#Go up and left to grab something\n",
    "arm.gotoPoint(-80,100,140); \n",
    "arm.closeGripper();\n",
    "#Go down, forward and right to drop it\n",
    "arm.gotoPoint(70,200,10);\n",
    "arm.openGripper();\n",
    "#Back to start position\n",
    "arm.gotoPoint(0,100,50);"
   ]
  },
  {
   "cell_type": "code",
   "execution_count": 12,
   "metadata": {
    "collapsed": true
   },
   "outputs": [],
   "source": [
    "class FK(object):\n",
    "    def jointsToPosition(self, a,b,g):\n",
    "        x,y,z = .0,.0,.0\n",
    "        return x,y,z"
   ]
  },
  {
   "cell_type": "code",
   "execution_count": 13,
   "metadata": {
    "collapsed": true
   },
   "outputs": [],
   "source": [
    "class IK(object):\n",
    "    def isReachable(self, x,y,z):\n",
    "        return True\n",
    "    \n",
    "    def positionToJoints(self, x,y,z):\n",
    "        a,b,g = .0,.0,.0\n",
    "        return a,b,g"
   ]
  },
  {
   "cell_type": "code",
   "execution_count": null,
   "metadata": {
    "collapsed": true
   },
   "outputs": [],
   "source": []
  }
 ],
 "metadata": {
  "kernelspec": {
   "display_name": "robo",
   "language": "python",
   "name": "robo"
  },
  "language_info": {
   "codemirror_mode": {
    "name": "ipython",
    "version": 2
   },
   "file_extension": ".py",
   "mimetype": "text/x-python",
   "name": "python",
   "nbconvert_exporter": "python",
   "pygments_lexer": "ipython2",
   "version": "2.7.14"
  }
 },
 "nbformat": 4,
 "nbformat_minor": 2
}
