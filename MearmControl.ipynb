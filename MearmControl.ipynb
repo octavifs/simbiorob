{
 "cells": [
  {
   "cell_type": "code",
   "execution_count": 33,
   "metadata": {},
   "outputs": [
    {
     "name": "stdout",
     "output_type": "stream",
     "text": [
      "Grip open\n",
      "Grip close\n",
      "Grip open\n",
      "Grip close\n",
      "Grip open\n",
      "Moving to: (-80, 100, 140)\n",
      "Grip close\n",
      "Moving to: (70, 200, 10)\n",
      "Grip open\n",
      "Moving to: (0, 100, 50)\n"
     ]
    }
   ],
   "source": [
    "from servos import ServoSB\n",
    "from links import MultiLink\n",
    "\n",
    "class MeArm(object):\n",
    "    def __init__(self):\n",
    "        # TODO: complete the DH parameters\n",
    "        self._L1 = 6.2 # Shoulder to elbow length (cm)\n",
    "        self._L2 = 8.5 # Elbow to wrist length (cm)\n",
    "        self._L3 = 8.5 # Wrist to hand length (cm)\n",
    "        \n",
    "        self._A1 = 60 # degrees 1st link (90)\n",
    "        self._A2 = -20 # degrees 2nd link (90)\n",
    "        self._A3 = -30 # degrees 3rd link (25)\n",
    "        \n",
    "        self.ERROR_THRESHOLD = 1 # Play with this to stop the loop\n",
    "        \n",
    "        # TODO: connect the servos to their pin and select the range of the angles\n",
    "        DUMMY_VAL = 1,0,180 # Remove this!\n",
    "        self.servos = {\"base\":ServoSB( *DUMMY_VAL ),\n",
    "                      \"shoulder\":ServoSB( *DUMMY_VAL ),\n",
    "                      \"elbow\":ServoSB( *DUMMY_VAL ),\n",
    "                      \"grip\":ServoSB( *DUMMY_VAL )}\n",
    "\n",
    "    def current_body(self):\n",
    "        # TODO: change Multilink to accept DH specifications\n",
    "        body = MultiLink()\n",
    "        body.addLink(self._L1, self._A1)\n",
    "        body.addLink(self._L2, self._A2)\n",
    "        body.addLink(self._L3, self._A3)\n",
    "        body.compose()\n",
    "        return body\n",
    "\n",
    "    def base(self, angle):\n",
    "        #TODO: Move the servo to the desired angle\n",
    "        print \"Moving base to:\", angle\n",
    "        \n",
    "    def shoulder(self, angle):\n",
    "        #TODO: Move the servo to the desired angle\n",
    "        print \"Moving shoulder to:\", angle        \n",
    "    \n",
    "    def elbow(self, angle):\n",
    "        #TODO: Move the servo to the desired angle\n",
    "        print \"Moving elbow to:\", angle\n",
    "    \n",
    "    def gripper(self, angle):\n",
    "        #TODO: Move the servo to the desired angle\n",
    "        print \"Moving gripper to:\", angle\n",
    "    \n",
    "    def openGripper(self):\n",
    "        #TODO: Move the servo to the angle that opens the gripper\n",
    "        print \"Grip open\"\n",
    "    \n",
    "    def closeGripper(self):\n",
    "        #TODO: Move the servo to the angle that closes the gripper\n",
    "        print \"Grip close\"\n",
    "    \n",
    "    def clap(self):\n",
    "        self.openGripper(); self.closeGripper()\n",
    "        self.openGripper(); self.closeGripper()\n",
    "        self.openGripper()\n",
    "    \n",
    "    def plotLinks(self):\n",
    "        self._body.plotLinks()\n",
    "    \n",
    "    def distance(self, p1, p2):\n",
    "        # TODO: Calculate the distance between points p1 and p2\n",
    "        pass\n",
    "    \n",
    "    def calculate_movement_delta(self, x, y, z):\n",
    "        # TODO: Do something smart and calculate the angular delta, by using one of the\n",
    "        # methods from the papers\n",
    "        delta_A1, delta_A2, delta_A3 = 0, 0, 0\n",
    "        return (delta_A1, delta_A2, delta_A3)\n",
    "    \n",
    "    def gotoPoint(self, x, y, z):\n",
    "        #TODO: Implement using one of the methods from the paper\n",
    "        print \"Moving to:\",(x,y,z)\n",
    "        p2 = (x, y)  # I'm currently ignoring z and just assuming we're moving in a 2D plane\n",
    "                     # This is obviously not enough, but should get the point accross\n",
    "        p1 = arm.current_body().jointsToPosition()[:2]\n",
    "        while( self.distance(p1, p2) > self.ERROR_THRESHOLD):\n",
    "            delta_A1, delta_A2, delta_A3 = self.calculate_movement_delta(self, x, y, z)\n",
    "            # Update angles\n",
    "            self._A1 += delta_A1\n",
    "            self._A2 += delta_A2\n",
    "            self._A3 += delta_A3\n",
    "            # Get updated position\n",
    "            p1 = arm.current_body().jointsToPosition()[:2]\n",
    "    \n",
    "arm = MeArm()\n",
    "arm.clap()\n",
    "#Go up and left to grab something\n",
    "arm.gotoPoint(-80,100,140); \n",
    "arm.closeGripper();\n",
    "#Go down, forward and right to drop it\n",
    "arm.gotoPoint(70,200,10);\n",
    "arm.openGripper();\n",
    "#Back to start position\n",
    "arm.gotoPoint(0,100,50);"
   ]
  },
  {
   "cell_type": "markdown",
   "metadata": {},
   "source": [
    "Here's a bunch of useful commands you may find useful to debug this:"
   ]
  },
  {
   "cell_type": "code",
   "execution_count": 27,
   "metadata": {},
   "outputs": [
    {
     "data": {
      "image/png": "[encoded data removed]",
      "text/plain": [
       "<matplotlib.figure.Figure at 0x10c84ead0>"
      ]
     },
     "metadata": {},
     "output_type": "display_data"
    }
   ],
   "source": [
    "# To see how the MultiLink looks like in 2D\n",
    "arm.current_body().plotLinks()"
   ]
  },
  {
   "cell_type": "code",
   "execution_count": 29,
   "metadata": {},
   "outputs": [
    {
     "data": {
      "image/png": "[encoded data removed]",
      "text/latex": [
       "$$\\left [ 18.9670514201273, \\quad 12.4827098736349\\right ]$$"
      ],
      "text/plain": [
       "[18.9670514201273, 12.4827098736349]"
      ]
     },
     "execution_count": 29,
     "metadata": {},
     "output_type": "execute_result"
    }
   ],
   "source": [
    "# If you want to get the point at the tip of the robot (Direct Kinematic)\n",
    "arm.current_body().jointsToPosition()[:2]"
   ]
  },
  {
   "cell_type": "code",
   "execution_count": null,
   "metadata": {},
   "outputs": [],
   "source": []
  }
 ],
 "metadata": {
  "kernelspec": {
   "display_name": "Python 2",
   "language": "python",
   "name": "python2"
  },
  "language_info": {
   "codemirror_mode": {
    "name": "ipython",
    "version": 2
   },
   "file_extension": ".py",
   "mimetype": "text/x-python",
   "name": "python",
   "nbconvert_exporter": "python",
   "pygments_lexer": "ipython2",
   "version": "2.7.14"
  }
 },
 "nbformat": 4,
 "nbformat_minor": 2
}
