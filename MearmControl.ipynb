{
 "cells": [
  {
   "cell_type": "code",
   "execution_count": null,
   "metadata": {
    "collapsed": true
   },
   "outputs": [],
   "source": []
  },
  {
   "cell_type": "code",
   "execution_count": 4,
   "metadata": {},
   "outputs": [
    {
     "name": "stdout",
     "output_type": "stream",
     "text": [
      "Grip open\n",
      "Grip close\n",
      "Grip open\n",
      "Grip close\n",
      "Grip open\n",
      "Moving to: (-80, 100, 140)\n",
      "Grip close\n",
      "Moving to: (70, 200, 10)\n",
      "Grip open\n",
      "Moving to: (0, 100, 50)\n"
     ]
    }
   ],
   "source": [
    "from MeArm import ServoSB\n",
    "from links import MultiLink\n",
    "\n",
    "class MeArm(object):\n",
    "    def __init__(self):\n",
    "        # TODO: complete the DH parameters\n",
    "        self._L1 = 0.0 #Shoulder to elbow length\n",
    "        self._L2 = 0.0 #Elbow to wrist length\n",
    "        self._L3 = 0.0 #Wrist to hand length\n",
    "        \n",
    "        # TODO: connect the servos to their pin and select the range of the angles\n",
    "        DUMMY_VAL = 1,0,180 # Remove this!\n",
    "        self.servos = {\"base\":ServoSB( *DUMMY_VAL ),\n",
    "                      \"shoulder\":ServoSB( *DUMMY_VAL ),\n",
    "                      \"elbow\":ServoSB( *DUMMY_VAL ),\n",
    "                      \"grip\":ServoSB( *DUMMY_VAL )}\n",
    "        # TODO: Build here the body using multilink code\n",
    "        # TODO: change Multilink to accept DH specifications\n",
    "        self._body = MultiLink()\n",
    "\n",
    "    def base(self, angle):\n",
    "        #TODO: Move the servo to the desired angle\n",
    "        print \"Moving base to:\", angle\n",
    "        \n",
    "    def shoulder(self, angle):\n",
    "        #TODO: Move the servo to the desired angle\n",
    "        print \"Moving shoulder to:\", angle        \n",
    "    \n",
    "    def elbow(self, angle):\n",
    "        #TODO: Move the servo to the desired angle\n",
    "        print \"Moving elbow to:\", angle\n",
    "    \n",
    "    def gripper(self, angle):\n",
    "        #TODO: Move the servo to the desired angle\n",
    "        print \"Moving gripper to:\", angle   \n",
    "    \n",
    "    def openGripper(self):\n",
    "        #TODO: Move the servo to the angle that opens the gripper\n",
    "        print \"Grip open\"\n",
    "    \n",
    "    def closeGripper(self):\n",
    "        #TODO: Move the servo to the angle that closes the gripper\n",
    "        print \"Grip close\"\n",
    "    \n",
    "    def clap(self):\n",
    "        self.openGripper(); self.closeGripper()\n",
    "        self.openGripper(); self.closeGripper()\n",
    "        self.openGripper()        \n",
    "    \n",
    "    def gotoPoint(self, x, y, z):\n",
    "        #TODO: Implement using one of the methods from the paper\n",
    "        print \"Moving to:\",(x,y,z)\n",
    "    \n",
    "arm = MeArm()\n",
    "arm.clap()\n",
    "#Go up and left to grab something\n",
    "arm.gotoPoint(-80,100,140); \n",
    "arm.closeGripper();\n",
    "#Go down, forward and right to drop it\n",
    "arm.gotoPoint(70,200,10);\n",
    "arm.openGripper();\n",
    "#Back to start position\n",
    "arm.gotoPoint(0,100,50);"
   ]
  },
  {
   "cell_type": "code",
   "execution_count": null,
   "metadata": {
    "collapsed": true
   },
   "outputs": [],
   "source": []
  },
  {
   "cell_type": "code",
   "execution_count": null,
   "metadata": {
    "collapsed": true
   },
   "outputs": [],
   "source": []
  },
  {
   "cell_type": "code",
   "execution_count": null,
   "metadata": {
    "collapsed": true
   },
   "outputs": [],
   "source": []
  }
 ],
 "metadata": {
  "kernelspec": {
   "display_name": "Python 2",
   "language": "python",
   "name": "python2"
  },
  "language_info": {
   "codemirror_mode": {
    "name": "ipython",
    "version": 2
   },
   "file_extension": ".py",
   "mimetype": "text/x-python",
   "name": "python",
   "nbconvert_exporter": "python",
   "pygments_lexer": "ipython2",
   "version": "2.7.14"
  }
 },
 "nbformat": 4,
 "nbformat_minor": 2
}
