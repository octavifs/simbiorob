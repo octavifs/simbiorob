{
 "cells": [
  {
   "cell_type": "code",
   "execution_count": 63,
   "metadata": {},
   "outputs": [
    {
     "name": "stdout",
     "output_type": "stream",
     "text": [
      "Grip open\n",
      "Grip close\n",
      "Grip open\n",
      "Grip close\n",
      "Grip open\n",
      "Moving to: (10, 7, 0)\n",
      "Moving second join to: (10, 7, 0)\n",
      "('A2 arccos value', 0.36347248576850094)\n",
      "('A3 numerator, denominator', -14.159806442801909, 148.32565483254197)\n",
      "('projections', 10.0, 7.0, 0)\n",
      "('angles', 0.0, 1.1988037080609266, -0.09517588391838853)\n",
      "('Final position', [9.72753766790992, 8.76824211247175])\n"
     ]
    },
    {
     "data": {
      "image/png": "[encoded data removed]",
      "text/plain": [
       "<matplotlib.figure.Figure at 0x10ed9de10>"
      ]
     },
     "metadata": {},
     "output_type": "display_data"
    }
   ],
   "source": [
    "from servos import ServoSB\n",
    "from links import MultiLink\n",
    "import numpy as np\n",
    "\n",
    "class MeArm(object):\n",
    "    def __init__(self):\n",
    "        # TODO: complete the DH parameters\n",
    "        self._L1 = 6.2 # Shoulder to elbow length (cm)\n",
    "        self._L2 = 8.5 # Elbow to wrist length (cm)\n",
    "        self._L3 = 8.5 # Wrist to hand length (cm)\n",
    "        \n",
    "        self._A1 = 0 # degrees 1st link (90)\n",
    "        self._A2 = 0 # degrees 2nd link (90)\n",
    "        self._A3 = 0 # degrees 3rd link (25)\n",
    "        \n",
    "        self.D_MAX = self._L1 + self._L2# Max reach in a straight line (cm)\n",
    "        \n",
    "        self.ERROR_THRESHOLD = 1 # Play with this to stop the loop\n",
    "        \n",
    "        # TODO: connect the servos to their pin and select the range of the angles\n",
    "        DUMMY_VAL = 1,0,180 # Remove this!\n",
    "        self.servos = {\"base\":ServoSB( *DUMMY_VAL ),\n",
    "                      \"shoulder\":ServoSB( *DUMMY_VAL ),\n",
    "                      \"elbow\":ServoSB( *DUMMY_VAL ),\n",
    "                      \"grip\":ServoSB( *DUMMY_VAL )}\n",
    "    def rad2deg(self, rad):\n",
    "        return rad/np.pi*180\n",
    "\n",
    "    def current_body(self):\n",
    "        # TODO: change Multilink to accept DH specifications\n",
    "        body = MultiLink()\n",
    "        #body.addLink(self._L1, self.rad2deg(self._A1))\n",
    "        body.addLink(self._L1, self.rad2deg(np.pi/2+self._A3))\n",
    "        body.addLink(self._L2, self.rad2deg(-self._A2))\n",
    "        body.compose()\n",
    "        return body\n",
    "\n",
    "    def base(self, angle):\n",
    "        #TODO: Move the servo to the desired angle\n",
    "        print \"Moving base to:\", angle\n",
    "        \n",
    "    def shoulder(self, angle):\n",
    "        #TODO: Move the servo to the desired angle\n",
    "        print \"Moving shoulder to:\", angle        \n",
    "    \n",
    "    def elbow(self, angle):\n",
    "        #TODO: Move the servo to the desired angle\n",
    "        print \"Moving elbow to:\", angle\n",
    "    \n",
    "    def gripper(self, angle):\n",
    "        #TODO: Move the servo to the desired angle\n",
    "        print \"Moving gripper to:\", angle\n",
    "    \n",
    "    def openGripper(self):\n",
    "        #TODO: Move the servo to the angle that opens the gripper\n",
    "        print \"Grip open\"\n",
    "    \n",
    "    def closeGripper(self):\n",
    "        #TODO: Move the servo to the angle that closes the gripper\n",
    "        print \"Grip close\"\n",
    "    \n",
    "    def clap(self):\n",
    "        self.openGripper(); self.closeGripper()\n",
    "        self.openGripper(); self.closeGripper()\n",
    "        self.openGripper()\n",
    "    \n",
    "    def plotLinks(self):\n",
    "        self._body.plotLinks()\n",
    "    \n",
    "    def squared_distance(self, p1, p2):\n",
    "        return np.sum((p1-p2)**2)\n",
    "    \n",
    "    def distance(self, p1, p2):\n",
    "        return np.sqrt(self.squared_distance(p1, p2))    \n",
    "\n",
    "    def calculate_movement_delta(self, x, y, z):\n",
    "        # TODO: Do something smart and calculate the angular delta, by using one of the\n",
    "        # methods from the papers\n",
    "        delta_A1, delta_A2, delta_A3 = 0, 0, 0\n",
    "        return (delta_A1, delta_A2, delta_A3)\n",
    "    \n",
    "    def alignInXZplane(self, x, z):\n",
    "        x, z = float(x), float(z)\n",
    "        A1_delta = np.arctan(z/x) - self._A1\n",
    "        return self._A1 + A1_delta\n",
    "    \n",
    "    def projectionInXYplane(self, d_max, x,y):\n",
    "        y, x = float(y), float(x)\n",
    "        p_angle = np.arctan(y/x)\n",
    "        x_proj_max = d_max * np.cos(p_angle)\n",
    "        y_proj_max = d_max * np.sin(p_angle)\n",
    "        \n",
    "        d_max = self.squared_distance(np.array([0,0]), np.array([x_proj_max, y_proj_max]))\n",
    "        d_actual = self.squared_distance(np.array([0,0]), np.array([x, y]))\n",
    "        \n",
    "        if d_actual < d_max:\n",
    "            return (x, y)\n",
    "        else:\n",
    "            return (x_proj_max, y_proj_max)\n",
    "    \n",
    "    def calculate_A2(self, x, y):\n",
    "        v = (x**2 + y**2 - self._L1**2 - self._L2**2) / (2 * self._L1 * self._L2)\n",
    "        print(\"A2 arccos value\", v)\n",
    "        return np.arccos(v)\n",
    "    \n",
    "    def calculate_A3(self, A2, x, y):\n",
    "        num = -(self._L2*np.sin(A2)*x) + (self._L1 + self._L2*np.cos(A2))*y\n",
    "        den = (self._L2*np.sin(A2)*y) + (self._L1 + self._L2*np.cos(A2))*x\n",
    "        print(\"A3 numerator, denominator\", num, den)\n",
    "        return np.arctan(num / den)\n",
    "    \n",
    "    def gotoPoint(self, x, y, z):\n",
    "        #TODO: Implement using one of the methods from the paper\n",
    "        print \"Moving to:\",(x,y,z)\n",
    "        \n",
    "        # align robot in the plane (Z,X)\n",
    "        new_A1 = self.alignInXZplane(x,z)\n",
    "        # Substract claw length from endpoint\n",
    "        #x -= self._L3\n",
    "        print \"Moving second join to:\",(x,y,z)\n",
    "        # calculate projection of x,y,z in the circles of reach of the 2 links (plane X Y)\n",
    "        x_proj, y_proj = self.projectionInXYplane(self.D_MAX, x, y)\n",
    "        # calculate angles A2 and A3\n",
    "        new_A2 = self.calculate_A2(x_proj, y_proj)\n",
    "        new_A3 = self.calculate_A3(new_A2, x_proj, y_proj)\n",
    "        \n",
    "        # update positions with some angular velocity\n",
    "        self._A1 = new_A1\n",
    "        self._A2 = new_A2\n",
    "        self._A3 = new_A3\n",
    "        \n",
    "        print(\"projections\", x_proj,y_proj,z)\n",
    "        print(\"angles\", self._A1,self._A2,self._A3)\n",
    "        print(\"Final position\", arm.current_body().jointsToPosition()[:2])\n",
    "        arm.current_body().plotLinks()\n",
    "    \n",
    "arm = MeArm()\n",
    "arm.clap()\n",
    "#Go up and left to grab something\n",
    "arm.gotoPoint(10,7,0); \n",
    "#arm.closeGripper();\n",
    "#Go down, forward and right to drop it\n",
    "#arm.gotoPoint(70,200,10);\n",
    "#arm.openGripper();\n",
    "#Back to start position\n",
    "#arm.gotoPoint(0,100,50);"
   ]
  },
  {
   "cell_type": "markdown",
   "metadata": {},
   "source": [
    "Here's a bunch of useful commands you may find useful to debug this:"
   ]
  },
  {
   "cell_type": "code",
   "execution_count": 27,
   "metadata": {},
   "outputs": [
    {
     "data": {
      "image/png": "[encoded data removed]",
      "text/plain": [
       "<matplotlib.figure.Figure at 0x10c84ead0>"
      ]
     },
     "metadata": {},
     "output_type": "display_data"
    }
   ],
   "source": [
    "# To see how the MultiLink looks like in 2D\n",
    "arm.current_body().plotLinks()"
   ]
  },
  {
   "cell_type": "code",
   "execution_count": 29,
   "metadata": {},
   "outputs": [
    {
     "data": {
      "image/png": "[encoded data removed]",
      "text/latex": [
       "$$\\left [ 18.9670514201273, \\quad 12.4827098736349\\right ]$$"
      ],
      "text/plain": [
       "[18.9670514201273, 12.4827098736349]"
      ]
     },
     "execution_count": 29,
     "metadata": {},
     "output_type": "execute_result"
    }
   ],
   "source": [
    "# If you want to get the point at the tip of the robot (Direct Kinematic)\n",
    "arm.current_body().jointsToPosition()[:2]"
   ]
  },
  {
   "cell_type": "code",
   "execution_count": null,
   "metadata": {},
   "outputs": [],
   "source": []
  }
 ],
 "metadata": {
  "kernelspec": {
   "display_name": "Python 2",
   "language": "python",
   "name": "python2"
  },
  "language_info": {
   "codemirror_mode": {
    "name": "ipython",
    "version": 2
   },
   "file_extension": ".py",
   "mimetype": "text/x-python",
   "name": "python",
   "nbconvert_exporter": "python",
   "pygments_lexer": "ipython2",
   "version": "2.7.14"
  }
 },
 "nbformat": 4,
 "nbformat_minor": 2
}
