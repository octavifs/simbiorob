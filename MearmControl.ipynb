{
 "cells": [
  {
   "cell_type": "code",
   "execution_count": 1,
   "metadata": {
    "collapsed": true
   },
   "outputs": [],
   "source": [
    "from links import MultiLink\n",
    "\n",
    "class FK(object):\n",
    "    def jointsToPosition(self, a,b,g):\n",
    "        x,y,z = .0,.0,.0\n",
    "        return x,y,z\n",
    "    \n",
    "l1 = 1.0; a1 = 45.0\n",
    "l2 = 2.0; a2 = -10.0\n",
    "l3 = 3.0; a3 = 10.0\n",
    "arm = MultiLink()\n",
    "link1 = arm.addLink(l1, a1)\n",
    "link2 = arm.addLink(l2, a2)\n",
    "link3 = arm.addLink(l3, a3)\n",
    "print arm.tt\n",
    "\n",
    "arm.plotLinks()\n",
    "\n",
    "arm.tt.Hs[-1]"
   ]
  },
  {
   "cell_type": "code",
   "execution_count": 2,
   "metadata": {
    "collapsed": true
   },
   "outputs": [],
   "source": [
    "\n",
    "\n",
    "class IK(object):\n",
    "    def isReachable(self, x,y,z):\n",
    "        return True\n",
    "    \n",
    "    def positionToJoints(self, x,y,z):\n",
    "        a,b,g = .0,.0,.0\n",
    "        return a,b,g"
   ]
  },
  {
   "cell_type": "code",
   "execution_count": 3,
   "metadata": {},
   "outputs": [
    {
     "name": "stdout",
     "output_type": "stream",
     "text": [
      "Grip open\n",
      "Grip close\n",
      "Grip open\n",
      "Grip close\n",
      "Grip open\n",
      "Moving to: (-80, 100, 140)\n",
      "Moving base to: 0.0\n",
      "Moving shoulder to: 0.0\n",
      "Moving elbow to: 0.0\n",
      "Grip close\n",
      "Moving to: (70, 200, 10)\n",
      "Moving base to: 0.0\n",
      "Moving shoulder to: 0.0\n",
      "Moving elbow to: 0.0\n",
      "Grip open\n",
      "Moving to: (0, 100, 50)\n",
      "Moving base to: 0.0\n",
      "Moving shoulder to: 0.0\n",
      "Moving elbow to: 0.0\n"
     ]
    }
   ],
   "source": [
    "from MeArm import Servo\n",
    "\n",
    "class MeArm(object):\n",
    "    def __init__(self):\n",
    "        self.L1 = 0.0 #Shoulder to elbow length\n",
    "        self.L2 = 0.0 #Elbow to wrist length\n",
    "        self.L3 = 0.0 #Wrist to hand length\n",
    "        self.servos = {\"base\":Servo(1),\n",
    "                      \"shoulder\":Servo(2),\n",
    "                      \"elbow\":Servo(3),\n",
    "                      \"grip\":Servo(4)}\n",
    "        \n",
    "        self.IK = IK()\n",
    "\n",
    "    def base(self, angle):\n",
    "        print \"Moving base to:\", angle\n",
    "        self.servos[\"base\"]\n",
    "    \n",
    "    def shoulder(self, angle):\n",
    "        print \"Moving shoulder to:\", angle        \n",
    "        self.servos[\"shoulder\"]\n",
    "    \n",
    "    def elbow(self, angle):\n",
    "        print \"Moving elbow to:\", angle\n",
    "        self.servos[\"elbow\"]\n",
    "    \n",
    "    def gripper(self, angle):\n",
    "        print \"Moving gripper to:\", angle\n",
    "        self.servos[\"grip\"]    \n",
    "    \n",
    "    def openGripper(self):\n",
    "        print \"Grip open\"\n",
    "    \n",
    "    def closeGripper(self):\n",
    "        print \"Grip close\"\n",
    "    \n",
    "    def clap(self):\n",
    "        self.openGripper(); self.closeGripper()\n",
    "        self.openGripper(); self.closeGripper()\n",
    "        self.openGripper()        \n",
    "    \n",
    "    def gotoPoint(self, x, y, z):\n",
    "        print \"Moving to:\",(x,y,z)\n",
    "        if self.IK.isReachable(x,y,z):\n",
    "            a,b,g = self.IK.positionToJoints(x,y,z) \n",
    "            self.base(a)\n",
    "            self.shoulder(b)\n",
    "            self.elbow(g)\n",
    "    \n",
    "    \n",
    "\n",
    "arm = MeArm()\n",
    "arm.clap()\n",
    "#Go up and left to grab something\n",
    "arm.gotoPoint(-80,100,140); \n",
    "arm.closeGripper();\n",
    "#Go down, forward and right to drop it\n",
    "arm.gotoPoint(70,200,10);\n",
    "arm.openGripper();\n",
    "#Back to start position\n",
    "arm.gotoPoint(0,100,50);"
   ]
  },
  {
   "cell_type": "code",
   "execution_count": 12,
   "metadata": {
    "collapsed": true
   },
   "outputs": [],
   "source": []
  },
  {
   "cell_type": "code",
   "execution_count": 13,
   "metadata": {
    "collapsed": true
   },
   "outputs": [],
   "source": []
  },
  {
   "cell_type": "code",
   "execution_count": null,
   "metadata": {
    "collapsed": true
   },
   "outputs": [],
   "source": []
  }
 ],
 "metadata": {
  "kernelspec": {
   "display_name": "robo",
   "language": "python",
   "name": "robo"
  },
  "language_info": {
   "codemirror_mode": {
    "name": "ipython",
    "version": 2
   },
   "file_extension": ".py",
   "mimetype": "text/x-python",
   "name": "python",
   "nbconvert_exporter": "python",
   "pygments_lexer": "ipython2",
   "version": "2.7.14"
  }
 },
 "nbformat": 4,
 "nbformat_minor": 2
}
